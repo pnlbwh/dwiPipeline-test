{
 "cells": [
  {
   "cell_type": "code",
   "execution_count": 7,
   "metadata": {
    "collapsed": true
   },
   "outputs": [],
   "source": [
    "load'lib.ijs'\n",
    "load'trig'"
   ]
  },
  {
   "cell_type": "code",
   "execution_count": 51,
   "metadata": {
    "collapsed": true
   },
   "outputs": [],
   "source": [
    "rfd=: 2p1 * 360 %~ ] NB. radians from degrees\n",
    "rx=: 3 : '3 3 $ 1 0 0  0 ,(cos y) ,(sin y),  0, (-sin y), (cos y)'\n",
    "ry=: 3 : '3 3 $ (cos y), 0, (-sin y), 0 1 0, (sin y), 0, (cos y)'\n",
    "rz=: 3 : '3 3 $  (cos y), (sin y), 0,  (-sin y), (cos y), 0,  0 0 1'\n",
    "shear=: 4 : 'y (<x)} (= i.3)'\n",
    "rotation=. 3 : '(+/ .*)/ (>;:''rx ry rz'') apply items rfd\"0 y'\n",
    "hm=. 3 : '1 (<3 3)} 4 {.&.|: 4 {. y' NB. homogenize matrix\n",
    "dot=: +/ .*\n",
    "mat2str=.(LF&joinstring)@:(<@(__&\":) items)\n",
    "writemat=: 4 : 'x fwrite~ mat2str y'"
   ]
  },
  {
   "cell_type": "code",
   "execution_count": 105,
   "metadata": {
    "collapsed": false
   },
   "outputs": [
    {
     "name": "stdout",
     "output_type": "stream",
     "text": [
      "┌─────────────────────────────┬─────────────────────────────┬──────────────────────────────┬───────┐\n",
      "│  1.04432 _0.236826 _0.321411│ 0.966105   0.205352 0.388224│ 0.966105   0.205352 _0.156434│1 0 0.5│\n",
      "│ 0.252282  0.951435 _0.348029│_0.193784    0.97726 0.282369│_0.193784    0.97726 0.0860827│0 1 0.3│\n",
      "│_0.156434 0.0860827   0.98393│ 0.170554 _0.0528504  1.05335│ 0.170554 _0.0528504   0.98393│0 0   1│\n",
      "└─────────────────────────────┴─────────────────────────────┴──────────────────────────────┴───────┘\n"
     ]
    }
   ],
   "source": [
    "(%. Aff) ; (Aff=.R dot S) ; (R=.rotation 5 9 12) ; (S=.dot/ (2 2 $ 0 2  1 2 ) shear items 0.5 0.3)"
   ]
  },
  {
   "cell_type": "code",
   "execution_count": 106,
   "metadata": {
    "collapsed": false
   },
   "outputs": [
    {
     "name": "stdout",
     "output_type": "stream",
     "text": [
      "┌────────────────────────────┬───────────────────────────┐\n",
      "│0.468358 0.879062 _0.0888271│0.266985 0.959945 _0.084995│\n",
      "└────────────────────────────┴───────────────────────────┘\n"
     ]
    }
   ],
   "source": [
    "(Grotated=.R dot G) ; G=.85 {gradf '003_GNX_007-dwi.nhdr'"
   ]
  },
  {
   "cell_type": "code",
   "execution_count": 111,
   "metadata": {
    "collapsed": false
   },
   "outputs": [
    {
     "name": "stdout",
     "output_type": "stream",
     "text": [
      "97\n"
     ]
    }
   ],
   "source": [
    "'dirs.txt' fwrite~ ('_-'&charsub)\": Grotated\n",
    "'transform.txt' writemat hm %. Aff"
   ]
  },
  {
   "cell_type": "code",
   "execution_count": 112,
   "metadata": {
    "collapsed": false
   },
   "outputs": [
    {
     "name": "stdout",
     "output_type": "stream",
     "text": [
      "Input Affine Transformation:\n",
      "[[ 1.04432   -0.236826  -0.321411   0.       ]\n",
      " [ 0.252282   0.951435  -0.348029   0.       ]\n",
      " [-0.156434   0.0860827  0.98393    0.       ]\n",
      " [ 0.         0.         0.         1.       ]]\n",
      "Input Gradient Direction:\n",
      "[ 0.468358   0.879062  -0.0888271]\n",
      "Extracted Rotation:\n",
      "[[ 0.97163622 -0.22598255 -0.06967737]\n",
      " [ 0.20867106  0.9579414  -0.19698902]\n",
      " [ 0.11126292  0.17686201  0.97792658]]\n",
      "Corrected Gradient Direction:\n",
      "[[ 0.26261017  0.9573206   0.12071717]]\n",
      "\n"
     ]
    }
   ],
   "source": [
    "shell 'extract_rotation-ants.py transform.txt dirs.txt'"
   ]
  }
 ],
 "metadata": {
  "kernelspec": {
   "display_name": "J",
   "language": "J",
   "name": "jkernel"
  },
  "language_info": {
   "file_extension": "ijs",
   "mimetype": "text/x-J",
   "name": "J"
  }
 },
 "nbformat": 4,
 "nbformat_minor": 0
}

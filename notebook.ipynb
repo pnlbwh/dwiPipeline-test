{
 "cells": [
  {
   "cell_type": "code",
   "execution_count": 1,
   "metadata": {
    "collapsed": true
   },
   "outputs": [],
   "source": [
    "load'lib.ijs'\n",
    "load'trig'"
   ]
  },
  {
   "cell_type": "code",
   "execution_count": 76,
   "metadata": {
    "collapsed": true
   },
   "outputs": [],
   "source": [
    "rfd=: 2p1 * 360 %~ ] NB. radians from degrees\n",
    "rx=: 3 : '3 3 $ 1 0 0  0 ,(cos y) ,(sin y),  0, (-sin y), (cos y)'\n",
    "ry=: 3 : '3 3 $ (cos y), 0, (-sin y), 0 1 0, (sin y), 0, (cos y)'\n",
    "rz=: 3 : '3 3 $  (cos y), (sin y), 0,  (-sin y), (cos y), 0,  0 0 1'\n",
    "shear=: 4 : 'y (<x)} (= i.3)'\n",
    "pureShear=. 3 : 'y (0 1; 1 0)} =i.3'\n",
    "rotation=. 3 : '(+/ .*)/ (>;:''rx ry rz'') apply items rfd\"0 y'\n",
    "hm=. 3 : '1 (<3 3)} 4 {.&.|: 4 {. y' NB. homogenize matrix\n",
    "dot=: +/ .*\n",
    "mat2str=.(LF&joinstring)@:(<@('_-'&charsub)@(0j15&\":) items)\n",
    "writemat=: 4 : 'x fwrite~ mat2str y'"
   ]
  },
  {
   "cell_type": "code",
   "execution_count": 81,
   "metadata": {
    "collapsed": false
   },
   "outputs": [
    {
     "name": "stdout",
     "output_type": "stream",
     "text": [
      "┌─────────┬──────────────────────────────┬──────────────────────────────┬───────────────────────────────┬──────────────────────────────┐\n",
      "│Shear    │R                             │Rinv                          │Aff                            │Affinv                        │\n",
      "├─────────┼──────────────────────────────┼──────────────────────────────┼───────────────────────────────┼──────────────────────────────┤\n",
      "│  1 0.2 0│ 0.966105   0.205352 _0.156434│ 0.966105 _0.193784   0.170554│   1.00718   0.398573 _0.156434│ 0.963578 _0.405455   0.188671│\n",
      "│0.2   1 0│_0.193784    0.97726 0.0860827│ 0.205352   0.97726 _0.0528504│0.00166773   0.938503 0.0860827│0.0126364   1.05835 _0.0905847│\n",
      "│  0   0 1│ 0.170554 _0.0528504   0.98393│_0.156434 0.0860827    0.98393│  0.159984 _0.0187395   0.98393│_0.156434 0.0860827    0.98393│\n",
      "└─────────┴──────────────────────────────┴──────────────────────────────┴───────────────────────────────┴──────────────────────────────┘\n"
     ]
    }
   ],
   "source": [
    "NB.Shear=.dot/ (2 2 $ 0 2  1 2 ) shear items 0.1 0.1\n",
    "Shear=.  pureShear 0.2\n",
    "R=.rotation 5 9 12\n",
    "Aff=.R dot Shear\n",
    "Rinv=. %. R\n",
    "Affinv=. %. Aff\n",
    "(,: \".each) ;:'Shear R Rinv Aff Affinv'"
   ]
  },
  {
   "cell_type": "code",
   "execution_count": 78,
   "metadata": {
    "collapsed": false
   },
   "outputs": [
    {
     "name": "stdout",
     "output_type": "stream",
     "text": [
      "┌───────────────────────────┬────────────────────────────┐\n",
      "│G                          │Grotated                    │\n",
      "├───────────────────────────┼────────────────────────────┤\n",
      "│0.266985 0.959945 _0.084995│0.468358 0.879062 _0.0888271│\n",
      "└───────────────────────────┴────────────────────────────┘\n"
     ]
    }
   ],
   "source": [
    "Grotated=.R dot G \n",
    "G=.85 {gradf '003_GNX_007-dwi.nhdr'\n",
    "(,: \".each) ;:'G Grotated'"
   ]
  },
  {
   "cell_type": "code",
   "execution_count": 79,
   "metadata": {
    "collapsed": false
   },
   "outputs": [
    {
     "name": "stdout",
     "output_type": "stream",
     "text": [
      "290\n"
     ]
    }
   ],
   "source": [
    "'dirs.txt' fwrite~ ('_-'&charsub)\": Grotated\n",
    "NB.'transform.txt' writemat hm %. Aff\n",
    "'transform.txt' writemat hm Affinv"
   ]
  },
  {
   "cell_type": "code",
   "execution_count": 80,
   "metadata": {
    "collapsed": false
   },
   "outputs": [
    {
     "name": "stdout",
     "output_type": "stream",
     "text": [
      "Input Affine Transformation:\n",
      "[[ 0.955121   -0.29445487  0.17761562  0.        ]\n",
      " [ 0.10983985  1.00670564 -0.07061195  0.        ]\n",
      " [-0.15643447  0.08608271  0.98392989  0.        ]\n",
      " [ 0.          0.          0.          1.        ]]\n",
      "Input Gradient Direction:\n",
      "[ 0.468358   0.879062  -0.0888271]\n",
      "Extracted Rotation:\n",
      "[[ 0.96610498 -0.1937843   0.17055442]\n",
      " [ 0.20535195  0.97726016 -0.05285039]\n",
      " [-0.15643447  0.08608271  0.98392989]]\n",
      "Corrected Gradient Direction:\n",
      "[[ 0.26698473  0.95994504 -0.08499493]]\n",
      "\n"
     ]
    }
   ],
   "source": [
    "shell 'extract_rotation-ants.py transform.txt dirs.txt'"
   ]
  }
 ],
 "metadata": {
  "kernelspec": {
   "display_name": "J",
   "language": "J",
   "name": "jkernel"
  },
  "language_info": {
   "file_extension": "ijs",
   "mimetype": "text/x-J",
   "name": "J"
  }
 },
 "nbformat": 4,
 "nbformat_minor": 0
}
